{
  "nbformat": 4,
  "nbformat_minor": 0,
  "metadata": {
    "colab": {
      "provenance": [],
      "authorship_tag": "ABX9TyMW9MD3wWF06O5DliFEcR31",
      "include_colab_link": true
    },
    "kernelspec": {
      "name": "python3",
      "display_name": "Python 3"
    },
    "language_info": {
      "name": "python"
    }
  },
  "cells": [
    {
      "cell_type": "markdown",
      "metadata": {
        "id": "view-in-github",
        "colab_type": "text"
      },
      "source": [
        "<a href=\"https://colab.research.google.com/github/Mgobeaalcoba/Inferential_statistics_with_python/blob/main/Varianza_y_Desviaci%C3%B3n_Est%C3%A1ndar_Challenge.ipynb\" target=\"_parent\"><img src=\"https://colab.research.google.com/assets/colab-badge.svg\" alt=\"Open In Colab\"/></a>"
      ]
    },
    {
      "cell_type": "markdown",
      "source": [
        "### Challenge:\n",
        "\n",
        "1. Dado la siguiente población calcule la varianza y la desviación estandar de la misma:\n",
        "\n",
        "    7, 10, 12, 13, 16, 9, 8, 12, 8, 6,\n",
        "    16, 23, 11, 17, 20, 21, 25, 30, 31\n",
        "    33, 37, 39, 27, 36, 40, 43, 41, 45\n",
        "\n",
        "2. Tome una muestra de la población de arriba y haye la varianza y la población muestral de la misma\n",
        "\n"
      ],
      "metadata": {
        "id": "erYXkA7vz6LV"
      }
    },
    {
      "cell_type": "code",
      "execution_count": 1,
      "metadata": {
        "id": "VrMZsczHyksm"
      },
      "outputs": [],
      "source": [
        "import numpy as np"
      ]
    },
    {
      "cell_type": "code",
      "source": [
        "poblacion = np.array((7, 10, 12, 13, 16, 9, 8, 12, 8, 6, 16, 23, 11, 17, 20, 21, 25, 30, 31, 33, 37, 39, 27, 36, 40, 43, 41, 45))\n",
        "poblacion\n"
      ],
      "metadata": {
        "colab": {
          "base_uri": "https://localhost:8080/"
        },
        "id": "Y7RxcDzi0d8Q",
        "outputId": "444e3f40-0d27-4e9c-b7f1-6e5fc8990a77"
      },
      "execution_count": 20,
      "outputs": [
        {
          "output_type": "execute_result",
          "data": {
            "text/plain": [
              "array([ 7, 10, 12, 13, 16,  9,  8, 12,  8,  6, 16, 23, 11, 17, 20, 21, 25,\n",
              "       30, 31, 33, 37, 39, 27, 36, 40, 43, 41, 45])"
            ]
          },
          "metadata": {},
          "execution_count": 20
        }
      ]
    },
    {
      "cell_type": "code",
      "source": [
        "def varianza_poblacional(poblacion: list) -> float:\n",
        "  promedio = np.mean(poblacion)\n",
        "  numerador = sum([(x - promedio)**2 for x in poblacion])\n",
        "  denominador = len(poblacion)\n",
        "\n",
        "  return numerador / denominador\n"
      ],
      "metadata": {
        "id": "-ZdKwJdx0zO8"
      },
      "execution_count": 10,
      "outputs": []
    },
    {
      "cell_type": "code",
      "source": [
        "def desviacion_estandar(varianza: float) -> float:\n",
        "  return varianza ** (1/2)"
      ],
      "metadata": {
        "id": "7ERbhHL82wqS"
      },
      "execution_count": 12,
      "outputs": []
    },
    {
      "cell_type": "code",
      "source": [
        "# Calculamos la varianza de la población usando nuestra propia formula\n",
        "varianza_poblacion = varianza_poblacional(poblacion)\n",
        "varianza_poblacion"
      ],
      "metadata": {
        "colab": {
          "base_uri": "https://localhost:8080/"
        },
        "id": "VJI_p_GH17FC",
        "outputId": "67587e1a-1427-4c49-92b2-0ac0038e048f"
      },
      "execution_count": 30,
      "outputs": [
        {
          "output_type": "execute_result",
          "data": {
            "text/plain": [
              "155.06122448979593"
            ]
          },
          "metadata": {},
          "execution_count": 30
        }
      ]
    },
    {
      "cell_type": "code",
      "source": [
        "# Comprobamos usando Numpy\n",
        "poblacion.var(ddof=0) # ddof=0 se usa para especificar que es una varianza población la que quiero calcular"
      ],
      "metadata": {
        "colab": {
          "base_uri": "https://localhost:8080/"
        },
        "id": "X_953J_D2etH",
        "outputId": "71a7469f-6c3d-4d56-c5d5-12c673438983"
      },
      "execution_count": 31,
      "outputs": [
        {
          "output_type": "execute_result",
          "data": {
            "text/plain": [
              "155.06122448979593"
            ]
          },
          "metadata": {},
          "execution_count": 31
        }
      ]
    },
    {
      "cell_type": "code",
      "source": [
        "# Calculamos la desviacion estandar usando nuestra funcion:\n",
        "desviacion_estandar_poblacion = desviacion_estandar(varianza_poblacion)\n",
        "desviacion_estandar_poblacion"
      ],
      "metadata": {
        "colab": {
          "base_uri": "https://localhost:8080/"
        },
        "id": "kaMbVW_h3CQa",
        "outputId": "2fe1771e-0be6-4288-bf28-0de3b55aead6"
      },
      "execution_count": 13,
      "outputs": [
        {
          "output_type": "execute_result",
          "data": {
            "text/plain": [
              "12.452358189909088"
            ]
          },
          "metadata": {},
          "execution_count": 13
        }
      ]
    },
    {
      "cell_type": "code",
      "source": [
        "# Calculamos la desviación usando Numpy\n",
        "poblacion.std()"
      ],
      "metadata": {
        "colab": {
          "base_uri": "https://localhost:8080/"
        },
        "id": "t9TSPrFA3Qwz",
        "outputId": "a2639e6e-41f9-4cbc-ec27-b681f0ddd705"
      },
      "execution_count": 14,
      "outputs": [
        {
          "output_type": "execute_result",
          "data": {
            "text/plain": [
              "12.452358189909088"
            ]
          },
          "metadata": {},
          "execution_count": 14
        }
      ]
    },
    {
      "cell_type": "code",
      "source": [
        "# También podemos usar Pandas para ver las medidas de tendencia central consolidadas todas juntas:\n",
        "import pandas as pd"
      ],
      "metadata": {
        "id": "wZHUHHnH3cFx"
      },
      "execution_count": 15,
      "outputs": []
    },
    {
      "cell_type": "code",
      "source": [
        "poblacion_pd = pd.Series(poblacion)\n",
        "poblacion_pd"
      ],
      "metadata": {
        "colab": {
          "base_uri": "https://localhost:8080/"
        },
        "id": "360Kjv0o3ike",
        "outputId": "7c67ed51-a519-4cb2-913e-7aa524087c2b"
      },
      "execution_count": 18,
      "outputs": [
        {
          "output_type": "execute_result",
          "data": {
            "text/plain": [
              "0      7\n",
              "1     10\n",
              "2     12\n",
              "3     13\n",
              "4     16\n",
              "5      9\n",
              "6      8\n",
              "7     12\n",
              "8      8\n",
              "9      6\n",
              "10    16\n",
              "11    23\n",
              "12    11\n",
              "13    17\n",
              "14    20\n",
              "15    21\n",
              "16    25\n",
              "17    30\n",
              "18    31\n",
              "19    33\n",
              "20    37\n",
              "21    39\n",
              "22    27\n",
              "23    36\n",
              "24    40\n",
              "25    43\n",
              "26    41\n",
              "27    45\n",
              "dtype: int64"
            ]
          },
          "metadata": {},
          "execution_count": 18
        }
      ]
    },
    {
      "cell_type": "code",
      "source": [
        "poblacion_pd.describe() # La std da distinto porque describe de pandas asume que se trata de una muestra. No una población. Por lo que la calcula de forma incorrecta."
      ],
      "metadata": {
        "colab": {
          "base_uri": "https://localhost:8080/"
        },
        "id": "xMKoLgau3p86",
        "outputId": "d76270c9-ae1c-4446-eeab-c58922dc55b9"
      },
      "execution_count": 19,
      "outputs": [
        {
          "output_type": "execute_result",
          "data": {
            "text/plain": [
              "count    28.000000\n",
              "mean     22.714286\n",
              "std      12.680861\n",
              "min       6.000000\n",
              "25%      11.750000\n",
              "50%      20.500000\n",
              "75%      33.750000\n",
              "max      45.000000\n",
              "dtype: float64"
            ]
          },
          "metadata": {},
          "execution_count": 19
        }
      ]
    },
    {
      "cell_type": "markdown",
      "source": [
        "### Vamos ahora con los mismos calculos para una muestra de nuestra población:\n"
      ],
      "metadata": {
        "id": "HwrfDMSv32bn"
      }
    },
    {
      "cell_type": "code",
      "source": [
        "# sample es un metodo de la clase Series o DataFrame\n",
        "muestra_pd = poblacion_pd.sample(frac= 0.25)\n",
        "muestra_pd"
      ],
      "metadata": {
        "colab": {
          "base_uri": "https://localhost:8080/"
        },
        "id": "8c2pbwM7372o",
        "outputId": "df040559-4f24-4542-9caf-67f9ec01f32f"
      },
      "execution_count": 21,
      "outputs": [
        {
          "output_type": "execute_result",
          "data": {
            "text/plain": [
              "17    30\n",
              "4     16\n",
              "2     12\n",
              "18    31\n",
              "0      7\n",
              "1     10\n",
              "12    11\n",
              "dtype: int64"
            ]
          },
          "metadata": {},
          "execution_count": 21
        }
      ]
    },
    {
      "cell_type": "code",
      "source": [
        "muestra_pd.describe() # Describe por default asume que se trata de una muestra. Por lo que si estás calculando sobre una población la std te va a dar mal"
      ],
      "metadata": {
        "colab": {
          "base_uri": "https://localhost:8080/"
        },
        "id": "CBqG9WCQ4gAO",
        "outputId": "359cdde0-fe86-4428-fad0-84784516cb19"
      },
      "execution_count": 32,
      "outputs": [
        {
          "output_type": "execute_result",
          "data": {
            "text/plain": [
              "count     7.000000\n",
              "mean     16.714286\n",
              "std       9.793098\n",
              "min       7.000000\n",
              "25%      10.500000\n",
              "50%      12.000000\n",
              "75%      23.000000\n",
              "max      31.000000\n",
              "dtype: float64"
            ]
          },
          "metadata": {},
          "execution_count": 32
        }
      ]
    },
    {
      "cell_type": "code",
      "source": [
        "def varianza_muestral(muestra: list) -> float:\n",
        "  promedio = np.mean(muestra)\n",
        "  numerador = sum([(x - promedio)**2 for x in muestra])\n",
        "  denominador = len(muestra) - 1\n",
        "\n",
        "  return numerador / denominador"
      ],
      "metadata": {
        "id": "jklcCaus4y_p"
      },
      "execution_count": 33,
      "outputs": []
    },
    {
      "cell_type": "code",
      "source": [
        "varianza_muestra = varianza_muestral(muestra_pd)\n",
        "varianza_muestra"
      ],
      "metadata": {
        "colab": {
          "base_uri": "https://localhost:8080/"
        },
        "id": "s-LcVipf5CY5",
        "outputId": "53137ca2-91f9-408e-a681-e2dbf9e1afde"
      },
      "execution_count": 40,
      "outputs": [
        {
          "output_type": "execute_result",
          "data": {
            "text/plain": [
              "95.90476190476188"
            ]
          },
          "metadata": {},
          "execution_count": 40
        }
      ]
    },
    {
      "cell_type": "code",
      "source": [
        "# Sería un error usar .var() de numpy sin alterar el parametro ddof dado que calcula la varianza poblacion\n",
        "muestra_pd.var(ddof=0)"
      ],
      "metadata": {
        "colab": {
          "base_uri": "https://localhost:8080/"
        },
        "id": "iPnBNLRY6XeM",
        "outputId": "700bc444-ac24-4d8c-aab5-79e809684da6"
      },
      "execution_count": 35,
      "outputs": [
        {
          "output_type": "execute_result",
          "data": {
            "text/plain": [
              "82.20408163265304"
            ]
          },
          "metadata": {},
          "execution_count": 35
        }
      ]
    },
    {
      "cell_type": "code",
      "source": [
        "muestra_pd.var(ddof=1)"
      ],
      "metadata": {
        "colab": {
          "base_uri": "https://localhost:8080/"
        },
        "id": "VtVFus-95fe9",
        "outputId": "ce5fa84e-caa1-4fa2-efdd-04abeced3857"
      },
      "execution_count": 39,
      "outputs": [
        {
          "output_type": "execute_result",
          "data": {
            "text/plain": [
              "95.90476190476188"
            ]
          },
          "metadata": {},
          "execution_count": 39
        }
      ]
    },
    {
      "cell_type": "code",
      "source": [
        "desviacion_estandar(varianza_muestra)"
      ],
      "metadata": {
        "colab": {
          "base_uri": "https://localhost:8080/"
        },
        "id": "Tk_2MZdn5YAK",
        "outputId": "10f4229d-4d48-44cf-be0e-4be5b449b26c"
      },
      "execution_count": 41,
      "outputs": [
        {
          "output_type": "execute_result",
          "data": {
            "text/plain": [
              "9.793097666456813"
            ]
          },
          "metadata": {},
          "execution_count": 41
        }
      ]
    },
    {
      "cell_type": "code",
      "source": [
        "# Desviación estandar usando numpy\n",
        "muestra_pd.std(ddof=1)"
      ],
      "metadata": {
        "colab": {
          "base_uri": "https://localhost:8080/"
        },
        "id": "53DNEeiC7E1D",
        "outputId": "a4be6a9a-c179-4384-a3f7-08f90b4a24ee"
      },
      "execution_count": 42,
      "outputs": [
        {
          "output_type": "execute_result",
          "data": {
            "text/plain": [
              "9.793097666456813"
            ]
          },
          "metadata": {},
          "execution_count": 42
        }
      ]
    }
  ]
}